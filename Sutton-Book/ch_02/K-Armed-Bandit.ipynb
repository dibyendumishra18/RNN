{
 "cells": [
  {
   "cell_type": "markdown",
   "metadata": {},
   "source": [
    "# <span style=\"color:#2595bc\"><i>K</i>-Armed Bandit Problem</span>\n",
    "\n",
    "\n",
    "<a id=\"1\"></a>\n",
    "## <span style=\"color:#2595bc\"> Basics and Definitions </span>\n",
    "\n",
    "Imagine you have a slot machine with $K$-arms or levers. Whenever you pull down one lever, you are given a reward based upon which lever you pulled. Each lever arm has a reward associated with it. When the probabilistic distribution of rewards associated with a lever do not change with time, ie they are fixed, it's <span style=\"color:#f31818\"><i>stationary problem</i></span>. When the rewards change with use of levers, it's a <span style=\"color:#f31818\"><i>non-stationary</i></span> one. Your objective is to maximize the expected total reward over some time period, for example, over 1000 action selections, or <i>time steps</i>\n",
    "\n",
    "\n",
    "\n",
    "Each of the $k$ actions have an expected or mean reward that we expect to get when we select that action. We denote the action selected on time step $t$ as $A_{t}$ and the corresponding reward as $R_{t}$. The <b><span style=\"color:#f31818\">action value</span></b> then of an arbitrary action $a$, denoted $q_{*} (a)$, is the expected reward given that a is selected:<br>\n",
    "    $$q_{*} (a) = \\mathbb{E}[R_{t}|A_{t}=a]$$\n",
    "\n",
    " \n",
    "Simply put, we <b>estimate</b> how much reward we ought to get when we choose action $a$ based on our previous experiences when we chose the same action.If you knew the value of each action, then it would be trivial to solve the k-armed bandit problem: you would always select the action with highest value in order to maximize the objective. We assume that you do not know the action values with certainty, although we may make estimates as we play the game. Based on our ever-evolving estimates we will choose our option that is most likely to give us the most reward.\n",
    "<a id=\"2\"></a>\n",
    "## <span style=\"color:#2595bc\"> Explorations VS Exploitation</span>\n",
    "\n",
    "If you maintain estimates of the action values, then at any time step there is at\n",
    "least one action whose estimated value is greatest. We call these the <b><i>greedy</i></b> actions.\n",
    "When you select one of these actions, we say that you are <b><i><span style=\"color:#f31818\">exploiting</span></i></b> your current\n",
    "knowledge of the values of the actions. If instead you select one of the <b><i>nongreedy</i></b> actions, then we say you are <b><i><span style=\"color:#f31818\">exploring</span></i></b>, because this enables you to improve your\n",
    "estimate of the nongreedy action’s value. Exploitation is the right thing to do to\n",
    "maximize the expected reward on the one step, but exploration may produce the\n",
    "greater total reward in the long run.\n",
    "\n",
    "Reward is lower in the short run, during exploration, but higher in the long run because after you have discovered the better actions, you can exploit them many times. Because it is not possible both to explore and to exploit with any single action selection, one often refers to the “conflict” between exploration and exploitation.\n",
    "\n",
    "\n",
    "\n",
    "\n",
    "<a id=\"3\"></a>"
   ]
  },
  {
   "cell_type": "markdown",
   "metadata": {},
   "source": [
    "<img src=\"images/eq1.png\">"
   ]
  },
  {
   "cell_type": "markdown",
   "metadata": {},
   "source": [
    "\n",
    "\n",
    "#### <span style=\"color:#2595bc\"> Which action to take( or which lever to pull )? </span>\n",
    "\n",
    "\n",
    "The simplest action selection rule is to select the action (or one of the actions)\n",
    "with <span style=\"color:#f31818\">highest estimated action value</span>, that is, to select at step $t$ one of the greedy\n",
    "actions, $ A_{t}^* $ , for which $$Q_{t}(A_{t}^*) = max_{a} Q_{t}(a)$$.\n",
    "\n",
    "All that the above equation says is that, at a given state $t$, the action $a$ will be our preferred choice i.e $a$ will be $A_{t}^*$ if the action value associated with $a$ , which is $Q_{t}(a)$ is the maximum among all action values for all possibilites of $a$.\n",
    "\n",
    "\n",
    "The above <i><span style=\"color:#f31818\">greedy action selection</span></i> method can be also be written mathematically as :- \n",
    "$$A_{t} = argmax_a Q_t(a)$$\n",
    "where $argmax_a$ denotes the value of $a$ at which the expression that follows is maximized\n",
    "(with ties broken arbitrarily)\n",
    "\n",
    "\n",
    "#### <span style=\"color:#2595bc\">Okay. But what about exploration?</span>\n",
    "\n",
    "Greedy action selection always exploits current knowledge to maximize immediate reward; it spends no time at all sampling apparently\n",
    "inferior actions to see if they might really be better. A simple alternative is to\n",
    "behave greedily most of the time, but every once in a while, say with small probability\n",
    "$\\varepsilon$, instead to select randomly from amongst all the actions with equal probability\n",
    "independently of the action-value estimates.We call methods using this near-greedy\n",
    "action selection rule <i><span style=\"color:#f31818\">$\\varepsilon-greedy$ methods</span></i>. \n"
   ]
  },
  {
   "cell_type": "code",
   "execution_count": 1,
   "metadata": {},
   "outputs": [],
   "source": [
    "#Import dependencies\n",
    "import numpy as np\n",
    "import random\n",
    "import matplotlib\n",
    "from matplotlib import pyplot as plt\n",
    "%matplotlib inline\n",
    "from IPython.display import Image\n",
    " "
   ]
  },
  {
   "cell_type": "markdown",
   "metadata": {},
   "source": [
    "## <a id=\"4\">Sample Reward Distribution</a>\n",
    "\n",
    "Sample Example - Let's see for a given 10-armed-Bandit problem what do the probability distribution of the rewards look like"
   ]
  },
  {
   "cell_type": "code",
   "execution_count": 2,
   "metadata": {},
   "outputs": [
    {
     "data": {
      "image/png": "[encoded data removed]",
      "text/plain": [
       "<matplotlib.figure.Figure at 0x7f608036d358>"
      ]
     },
     "metadata": {},
     "output_type": "display_data"
    }
   ],
   "source": [
    "# An example bandit problem \n",
    "\n",
    "def example_bandit_rewards_plot():\n",
    "    # fake data\n",
    "    fs = 10  # fontsize\n",
    "    pos = [1, 2, 3, 4, 5, 6, 7, 8, 9, 10]\n",
    "    \n",
    "    \n",
    "    data = [np.random.normal(0, std, size=100) for std in pos]\n",
    "\n",
    "    fig, axes = plt.subplots(nrows=1, ncols=1, figsize=(6, 6))\n",
    "    \n",
    "    #Mean of the rewards. For the arms, the means of the rewards lie in a normal distribution\n",
    "    #with mean 0 and standard deviation 1\n",
    "    optimal_action_values = np.random.normal(0, 1, size=10)\n",
    "    \n",
    "    #The actual Reward for a particular arm lies in a normal distribution\n",
    "    #with mean being the optimal_action_value for the particular arm and \n",
    "    #standard deviation 1\n",
    "    rewards = [np.random.normal(optimal_action_value,1,size=100) for optimal_action_value in optimal_action_values]\n",
    "\n",
    "    axes.violinplot(rewards, pos, points=20, \n",
    "                          showmeans=True, showextrema=False, showmedians=False)\n",
    "    #axes.set_title('Reward Distribution for different Actions', fontsize=fs)\n",
    "\n",
    "\n",
    "    axes.set_xlabel(\"Action\")\n",
    "    axes.set_xticks(pos)\n",
    "    axes.set_ylabel(\"Reward Distribution\")\n",
    "    fig.suptitle(\"Reward Distribution for different Actions\")\n",
    "    #fig.subplots_adjust(hspace=0.4)\n",
    "    plt.show()\n",
    "\n",
    "example_bandit_rewards_plot()\n"
   ]
  },
  {
   "cell_type": "markdown",
   "metadata": {},
   "source": [
    "## <a id=\"5\">Greedy Bandit Implementation</a>"
   ]
  },
  {
   "cell_type": "code",
   "execution_count": 3,
   "metadata": {},
   "outputs": [],
   "source": [
    "# In order to standardise test set and compare various methods later,\n",
    "# in subsequent examples/problems we will assume the rewards lie in normal distribution\n",
    "# whose mean is given by\n",
    "list_optimal = [0.5,0.7,0.9,1.1,2.4,0.1,0.9,0.1,0.3,0.7]\n"
   ]
  },
  {
   "cell_type": "code",
   "execution_count": 4,
   "metadata": {},
   "outputs": [
    {
     "name": "stdout",
     "output_type": "stream",
     "text": [
      "epsilon :  0.1 \t average reward value 2.108155864694302\n",
      "epsilon :  0 \t average reward value 1.0599881866791852\n"
     ]
    },
    {
     "data": {
      "text/plain": [
       "<matplotlib.legend.Legend at 0x7f607e256a90>"
      ]
     },
     "execution_count": 4,
     "metadata": {},
     "output_type": "execute_result"
    },
    {
     "data": {
      "image/png": "[encoded data removed]",
      "text/plain": [
       "<matplotlib.figure.Figure at 0x7f60aadd72b0>"
      ]
     },
     "metadata": {},
     "output_type": "display_data"
    }
   ],
   "source": [
    "#Multi Armed bandit \n",
    "\n",
    "\n",
    "def greedy_bandit(arms=10,std_dev_reward=1,init_expectation = 0,iterations=1000,epsilon=0.1):\n",
    "    #std_dev_reward - Standard devation of rewards about their means\n",
    "    #Iterations - No of iterations to cary one experiment\n",
    "    #epsilon - parameter\n",
    "    #init_expectaton -- Initial expectation value\n",
    "    \n",
    "    \n",
    "    no_of_actions = arms\n",
    "    optimal_action_values = list_optimal\n",
    "    \n",
    "    #Initiate expectation counter\n",
    "    expect = [init_expectation]*no_of_actions\n",
    "    #Keeps reconrd of number of occurence of action\n",
    "    act_occur = [0]*no_of_actions\n",
    "    #Average reward at each stage of iterations\n",
    "    avg_rward_list = [0]\n",
    "    #Average reward value\n",
    "    avg_rward_value = 0\n",
    "\n",
    "    def get_maxvalue_index(list_):\n",
    "        #Get list of indexes which contain maximum value in a list\n",
    "        indexes_of_max_values = np.argwhere(list_ == np.amax(list_)).flatten().tolist()\n",
    "        #return an index randomly\n",
    "        return random.choice(indexes_of_max_values)\n",
    "\n",
    "    \n",
    "    \n",
    "\n",
    "\n",
    "    counter = 0\n",
    "    #print (optimal_action_values)\n",
    "   \n",
    "    for t in range(iterations):\n",
    "\n",
    "        counter += 1\n",
    "       \n",
    "        # Explore with prob of epsilon\n",
    "        if random.random()<epsilon:\n",
    "            #act_index --> Index of arm upon which action is made\n",
    "            act_index = random.randint(0,no_of_actions-1)\n",
    "            #print (\"*\")\n",
    "        else:\n",
    "            act_index = (get_maxvalue_index(expect))\n",
    "        \n",
    "        #Increment counter\n",
    "        act_occur[act_index]+=1\n",
    "        #Reward at state t\n",
    "        rward_t = np.random.normal(optimal_action_values[act_index],std_dev_reward)\n",
    "        #Update expectation\n",
    "        expect[act_index] = (((expect[act_index]*(act_occur[act_index]-1))+rward_t)/(act_occur[act_index]))\n",
    "\n",
    "        avg_rward_value = ((avg_rward_value*(counter-1))+rward_t)/(counter)\n",
    "        avg_rward_list.append(avg_rward_value)\n",
    "        \n",
    "    return avg_rward_list,avg_rward_value\n",
    "\n",
    "\n",
    "def greedy_experiment(arms=10,std_dev_reward=1,init_expectation = 0,iterations=1000,epsilon=0.1,no_of_exp = 500):\n",
    "    \n",
    "    #no_of_ex --> No of experiments to carry to obtain average data\n",
    "    \n",
    "    #Average over experiments\n",
    "    rward_list = [0]\n",
    "    rward_value = 0\n",
    "    for x in range(no_of_exp):\n",
    "        avg_lists, avg_values = greedy_bandit(arms,std_dev_reward,init_expectation,iterations,epsilon)\n",
    "        if x == 0:\n",
    "            rward_list = avg_lists\n",
    "            rward_value = avg_values\n",
    "        else:\n",
    "            #Update averages\n",
    "            rward_list = np.add(np.dot(x,rward_list),avg_lists)/(x+1)\n",
    "            rward_value = ((x*rward_value)+avg_values)/(x+1)\n",
    "  \n",
    "    print (\"epsilon : \",epsilon,\"\\t average reward value\",rward_value)\n",
    "    return (rward_list)\n",
    "\n",
    "fig, axes = plt.subplots(nrows=1, ncols=1, figsize=(6, 6))\n",
    "axes.plot(greedy_experiment(epsilon=0.1),color='r', label=\"epsilon=0.1\")\n",
    "axes.plot(greedy_experiment(epsilon=0),color='b',label=\"epsilon=0\")\n",
    "axes.set_xlabel(\"No of Steps\")\n",
    "\n",
    "axes.set_ylabel(\"Average Reward\")\n",
    "axes.legend(bbox_to_anchor=(1.05, 1), loc=2, borderaxespad=0.)"
   ]
  },
  {
   "cell_type": "markdown",
   "metadata": {},
   "source": [
    "\n",
    "## <a id=\"6\">Optimistic Initial Values</a>\n",
    "\n",
    "Initial action values can also be used as a simple way of encouraging exploration. The initial action-values $Q_1(a)$ acts as \"bias\" to our expectations. For eg, if we set the initial action-values to a high number, then when the real reward will be less than our expectation, our agent will be disappointed, the expectation from that action will decrease and our agent and will move on to explore other actions. Thus <i><span style=\"color:#f31818\">exploration is \"induced\" initially</span></i> by setting a high initial action-value.\n",
    "\n",
    "Conversely setting a low initial expectation will lead to more exploitation that exploration as our agent would be quite delighted initially because the results would be higher than our initial estimates\n",
    "\n",
    "<a id=\"6a\"></a>"
   ]
  },
  {
   "cell_type": "code",
   "execution_count": 5,
   "metadata": {},
   "outputs": [
    {
     "name": "stdout",
     "output_type": "stream",
     "text": [
      "epsilon :  0 \t average reward value 2.3075967578038545\n",
      "epsilon :  0 \t average reward value 1.0601421046249047\n",
      "epsilon :  0 \t average reward value 0.7503940338068164\n"
     ]
    },
    {
     "data": {
      "text/plain": [
       "<matplotlib.legend.Legend at 0x7f607e22aeb8>"
      ]
     },
     "execution_count": 5,
     "metadata": {},
     "output_type": "execute_result"
    },
    {
     "data": {
      "image/png": "[encoded data removed]",
      "text/plain": [
       "<matplotlib.figure.Figure at 0x7f607e28f438>"
      ]
     },
     "metadata": {},
     "output_type": "display_data"
    }
   ],
   "source": [
    "fig, axes = plt.subplots(nrows=1, ncols=1, figsize=(6, 6))\n",
    "axes.plot(greedy_experiment(init_expectation=5,epsilon=0), label=\"Q1=5\")\n",
    "axes.plot(greedy_experiment(init_expectation=0,epsilon=0),label=\"Q1=0\")\n",
    "axes.plot(greedy_experiment(init_expectation=-5,epsilon=0),label=\"Q1=-5\")\n",
    "axes.set_xlabel(\"No of Steps\")\n",
    "\n",
    "axes.set_ylabel(\"Average Reward\")\n",
    "axes.legend(bbox_to_anchor=(1.05, 1), loc=2, borderaxespad=0.)"
   ]
  },
  {
   "cell_type": "markdown",
   "metadata": {},
   "source": [
    "It is necessary to note however that setting optimistic initial values is <span style=\"color:#f31818\">not well suited to nonstationary problems</span> because its drive for exploration is inherently <span style=\"color:#f31818\"><b>temporary</b></span>. If the task changes, creating a renewed need for\n",
    "exploration, this method cannot help. Indeed, any method that focuses on the initial\n",
    "state in any special way is unlikely to help with the general nonstationary case"
   ]
  },
  {
   "cell_type": "markdown",
   "metadata": {},
   "source": [
    "<a id=\"7\"></a>\n",
    "## <span style=\"color:#2595bc\">Upper-Confidence-Bound Action Selection</span>\n",
    "\n",
    "Exploration is needed because the estimates of the action values are uncertain. The\n",
    "greedy actions are those that look best at present, but some of the other actions\n",
    "may actually be better. ε-greedy action selection forces the non-greedy actions to\n",
    "be tried, but indiscriminately, with no preference for those that are nearly greedy or\n",
    "particularly uncertain. It would be better to select among the non-greedy actions\n",
    "according to their potential for actually being optimal, taking into account both how\n",
    "close their estimates are to being maximal and the uncertainties in those estimates.\n",
    "One effective way of doing this is to select actions as -\n",
    "\n",
    "\n",
    "$$\\begin{equation*}\n",
    "A_t = argmax_{a}\\Bigl[Q_t(a) + c\\sqrt{\\frac{\\log t}{N_t(a)}}\\Bigr]\n",
    "\\end{equation*}\n",
    "$$\n",
    "\n",
    "where $\\log t$ denotes the natural logarithm of $t$ (the number that e ≈ 2.71828 would\n",
    "have to be raised to in order to equal $t$), $N_t(a)$ denotes the number of times that\n",
    "action $a$ has been selected prior to time t (the denominator), and the number\n",
    "c > 0 controls the degree of exploration. If $N_t(a)$ = 0, then a is considered to be a\n",
    "maximizing action.\n",
    "\n",
    "The idea of this <span style=\"color:#f31818\"><i>upper confidence bound</i> (UCB)</span> action selection is that the squareroot\n",
    "term is a <b>measure of the uncertainty or variance</b> in the estimate of $a$’s value.\n",
    "The quantity being max’ed over is thus a sort of upper bound on the possible true\n",
    "value of action $a$, with the $c$ parameter determining the confidence level. \n",
    "\n",
    "Each time\n",
    "$a$ is selected the uncertainty is reduced; $N_t(a)$ is incremented and, as\n",
    "it appears in the denominator of the uncertainty term, the term is decreased. On\n",
    "the other hand, each time an action other than a is selected $t$ is increased but Nt(a)\n",
    "is not; as $t$ appears in the numerator the uncertainty estimate is increased. The\n",
    "use of the natural logarithm means that the increase gets smaller over time, but is\n",
    "unbounded; <span style=\"color:#f31818\">all actions will eventually be selected, but as time goes by it will be\n",
    "a longer wait</span>, and thus a lower selection frequency, for actions with a lower value\n",
    "estimate or that have already been selected more times\n",
    "<a id=\"7a\"></a>"
   ]
  },
  {
   "cell_type": "code",
   "execution_count": 6,
   "metadata": {
    "scrolled": true
   },
   "outputs": [
    {
     "name": "stdout",
     "output_type": "stream",
     "text": [
      "epsilon :  0.1 \t average reward value 2.1211933201110056\n",
      "epsilon :  0  c:  2 \t average reward value 2.270963060078824\n"
     ]
    },
    {
     "data": {
      "text/plain": [
       "<matplotlib.legend.Legend at 0x7f607e1d16a0>"
      ]
     },
     "execution_count": 6,
     "metadata": {},
     "output_type": "execute_result"
    },
    {
     "data": {
      "image/png": "[encoded data removed]",
      "text/plain": [
       "<matplotlib.figure.Figure at 0x7f607e1f99e8>"
      ]
     },
     "metadata": {},
     "output_type": "display_data"
    }
   ],
   "source": [
    "\n",
    "def UCB_bandit(arms=10,std_dev_reward=1,init_expectation = 0,iterations=1000,epsilon=0.1,c=2):\n",
    "    #Initiations. Same as previous\n",
    "    no_of_actions = arms\n",
    "    \n",
    "    optimal_action_values = list_optimal\n",
    "    expect = [init_expectation]*no_of_actions\n",
    "    act_occur = [0]*no_of_actions\n",
    "    \n",
    "    def get_maxvalue_index(list_):\n",
    "        #Get list of indexes which contain maximum value in a list\n",
    "        indexes_of_max_values = np.argwhere(list_ == np.amax(list_)).flatten().tolist()\n",
    "        #return an index randomly\n",
    "        return random.choice(indexes_of_max_values)\n",
    "\n",
    "    avg_rward_list = [0]\n",
    "    avg_rward_value = 0\n",
    "\n",
    "\n",
    "    counter = 0\n",
    "    #print (optimal_action_values)\n",
    "   \n",
    "    for t in range(iterations):\n",
    "\n",
    "        if t==0:\n",
    "            #act_index --> Index of arm upon which action is made\n",
    "            act_index = get_maxvalue_index(expect)\n",
    "        else:\n",
    "            #c*Sqrt terms \n",
    "            sqrt_term = c*(np.sqrt(np.log(t)/np.add(act_occur,1e-4)))   #1e-4 to avoid division by zero\n",
    "            #The list of values over which the max value is takes to choose index\n",
    "            decision_list = expect + sqrt_term\n",
    "            act_index = get_maxvalue_index(decision_list)\n",
    "        \n",
    "        counter += 1\n",
    "        \n",
    "        \n",
    "        act_occur[act_index]+=1\n",
    "        rward_t = np.random.normal(optimal_action_values[act_index],std_dev_reward)\n",
    "\n",
    "        expect[act_index] = (((expect[act_index]*(act_occur[act_index]-1))+rward_t)/(act_occur[act_index]))\n",
    "\n",
    "        avg_rward_value = ((avg_rward_value*(counter-1))+rward_t)/(counter)\n",
    "        avg_rward_list.append(avg_rward_value)\n",
    "        #print  (act_index)\n",
    "    #plt.plot(avg_rward_list,color=colr)\n",
    "    #print (\"Average Reward : Greedy : \\t\",avg_rward_value)\n",
    "    return avg_rward_list,avg_rward_value\n",
    "\n",
    "\n",
    "def UCB_experiment(arms=10,std_dev_reward=1,init_expectation = 0,iterations=1000,epsilon=0.1,c=2,no_of_exp = 500):\n",
    "    rward_list = [0]\n",
    "    rward_value = 0\n",
    "    for x in range(no_of_exp):\n",
    "        avg_lists, avg_values = UCB_bandit(arms,std_dev_reward,init_expectation,iterations,epsilon,c)\n",
    "        if x == 0:\n",
    "            rward_list = avg_lists\n",
    "            rward_value = avg_values\n",
    "        else:\n",
    "            rward_list = np.add(np.dot(x,rward_list),avg_lists)/(x+1)\n",
    "            rward_value = ((x*rward_value)+avg_values)/(x+1)\n",
    "  \n",
    "    print (\"epsilon : \",epsilon,\" c: \",c,\"\\t average reward value\",rward_value)\n",
    "    return (rward_list)\n",
    "\n",
    "\n",
    "fig, axes = plt.subplots(nrows=1, ncols=1, figsize=(6, 6))\n",
    "axes.plot(greedy_experiment(epsilon=0.1),color='r', label=\"epsilon=0.1 c=0\")\n",
    "axes.plot(UCB_experiment(epsilon=0,c=2),color='b',label=\"epsilon=0 c=2\")\n",
    "axes.set_xlabel(\"No of Steps\")\n",
    "\n",
    "axes.set_ylabel(\"Average Reward\")\n",
    "axes.legend(bbox_to_anchor=(1.05, 1), loc=2, borderaxespad=0.)"
   ]
  },
  {
   "cell_type": "markdown",
   "metadata": {},
   "source": [
    "<a id=\"8\"></a>\n",
    "## <span style=\"color:#2595bc\">Incremental Implementation</span>\n",
    "Let $R_i$ denote the reward after $i$th selection of a specific action $a$. Let $Q_n$ denote the estimate of it's action value after $a$ has been selected $n-1$ times, then we know that\n",
    "$Q_n = \\frac{ R_1+R_2+.+.+R_{n-1}}{n-1}$\n",
    "\n",
    "There is some math involved in the subsequent step. If you are not able to get it, fret not. Jump down the equations where I have explained the result.\n",
    "So, the expression for $Q_n$ can be further simplified in a way that we don't need to store all the $R_{i}$'s to compute the sum. Given $Q_n$  and the $n$th reward, $R_n$, the new average of all $n$ rewards can be computed by - "
   ]
  },
  {
   "cell_type": "markdown",
   "metadata": {},
   "source": [
    "<img src=\"images/eq.png\">"
   ]
  },
  {
   "cell_type": "markdown",
   "metadata": {},
   "source": [
    "The <span style=\"color:#f31818\"><i>$\\alpha$</i></span> here is known as <span style=\"color:#f31818\"><i>step size</i></span>. Note that as far we have studies, $\\alpha$ changes with time and is not constant. The equation can also be expressed as - \n",
    "\n",
    "$$\n",
    "NewEstimate = OldEstimate + StepSize \\Biggl[Target - OldEstimate\\Biggr]\n",
    "$$\n",
    "\n",
    "The expression $[Target - OldEstimate]$ is an <span style=\"color:#f31818\"><i>error</i></span> in the estimate. At each step we try to predict the $Action Values$ accurately so that we can make a proper decision. But the <i>error</i> reflects how much our prediction$(Q_n)$ differs from the actual rewards we obtain. We need to reduce this error. It is by modifying our prediction by taking a step toward the “Target.” The target is presumed to indicate a desirable direction in which to move. The actual reward $R$ is our desired output as our prediction ideally should give this output. Therefore we change our $OldEstimate$ by a value $[Target - OldEstimate]$ which is nothing but the error."
   ]
  },
  {
   "cell_type": "markdown",
   "metadata": {},
   "source": [
    "<a id=\"9\"></a>\n",
    "## <span style=\"color:#2595bc\">Non-Stationary Problem</span>\n",
    "\n",
    "The averaging methods discussed so far are appropriate in a stationary environment,\n",
    "but not if the bandit is changing over time. In such cases\n",
    "it makes sense to weight recent rewards more heavily than long-past ones. One of\n",
    "the most popular ways of doing this is to use <b>constant step-size</b>.\n",
    "\n",
    "So, we can take a constant $\\alpha$ and modify our update rule as \n",
    "$$Q_{n+1} = Q_{n} + \\alpha\\Biggl[R_n - Q_n\\Biggr]$$\n",
    "\n",
    "where the step-size $\\alpha \\in (0,1]$ i.e $\\alpha$ can vary from 0 to 1(excluding 0 and including 1)\n",
    "\n",
    "This results in $Q_{n+1}$ taking a very interesting form. $Q_{n+1}$ becomes a <b><i>weighted average</i></b> of past rewards and the initial estimate $Q_1$\n",
    "\n",
    "$$Q_{n+1} = Q_n + \\alpha[R_n - Q_n]$$\n",
    "\n",
    "<span style=\"color:#f31818\"> $$= \\alpha R_n + (1-\\alpha)Q_n$$ </span>\n",
    "\n",
    "This intermediate step gives very vital insight to what we are doing. Initially when we were simply taking the average of all the rewards we got, we gave <b>equal weightage</b> to each reward we got for computing the expectation/prediction, disregarding at which time step we got the reward. However here, we assign a weight of $\\alpha$ to the latest reward we get, which is $R_n$ and a weight of $1-\\alpha$ to the previous estimate $Q_n$ Now we will explore what weights we give to the returns we get at an arbitrary time step $R_t$ under this method\n",
    "\n",
    "\n"
   ]
  },
  {
   "cell_type": "markdown",
   "metadata": {},
   "source": [
    "<img src=\"images/3.png\">"
   ]
  },
  {
   "cell_type": "markdown",
   "metadata": {},
   "source": [
    "<img src=\"images/average.png\">\n",
    "<a id=\"9a\"></a>"
   ]
  },
  {
   "cell_type": "code",
   "execution_count": 7,
   "metadata": {},
   "outputs": [
    {
     "name": "stdout",
     "output_type": "stream",
     "text": [
      "alpha :  0.2 \t epsilon :  0.0 \t average reward value 2.170798746883593\n",
      "alpha :  0.2 \t epsilon :  0.1 \t average reward value 2.484326257845963\n",
      "alpha :  0.0 \t epsilon :  0.1 \t average reward value 0.6657153504816635\n",
      "alpha :  0.0 \t epsilon :  0.0 \t average reward value 0.6669434270554765\n"
     ]
    },
    {
     "data": {
      "text/plain": [
       "<matplotlib.legend.Legend at 0x7f607e152ba8>"
      ]
     },
     "execution_count": 7,
     "metadata": {},
     "output_type": "execute_result"
    },
    {
     "data": {
      "image/png": "[encoded data removed]",
      "text/plain": [
       "<matplotlib.figure.Figure at 0x7f607e198c88>"
      ]
     },
     "metadata": {},
     "output_type": "display_data"
    }
   ],
   "source": [
    "def weighted_non_stationary(arms=10,mean_optimal=0,std_dev_optimal=1,std_dev_reward=1,init_expectation = 0,iterations=1000,epsilon=0.1, alpha=0.5):\n",
    "    #alpha - step size\n",
    "    #epsilon - Exploration coeff\n",
    "    \n",
    "    #mean_optimal -- Mean value about which the true optimal value of the arms(by average method) lies\n",
    "    #Std_dev_optimal -- Standard deviation of the optimal values of the rewards about the mean_optimal\n",
    "    \n",
    "    #Initiations , same as prev\n",
    "    no_of_actions = arms\n",
    "    optimal_action_values = list_optimal\n",
    "    expect = [init_expectation]*no_of_actions\n",
    "    act_occur = [0]*no_of_actions\n",
    "\n",
    "    def get_maxvalue_index(list_):\n",
    "        #Get list of indexes which contain maximum value in a list\n",
    "        indexes_of_max_values = np.argwhere(list_ == np.amax(list_)).flatten().tolist()\n",
    "        #return an index randomly\n",
    "        return random.choice(indexes_of_max_values)\n",
    "\n",
    "    avg_rward_list = [0]\n",
    "    avg_rward_value = 0\n",
    "\n",
    "\n",
    "    counter = 0\n",
    "    #print (optimal_action_values)\n",
    "   \n",
    "    for t in range(iterations):\n",
    "        \n",
    "        \n",
    "        counter += 1\n",
    "        #Change Reward function at every 1/5th of the experiment\n",
    "        if counter%200==0:\n",
    "            #Set seed so that for every condition and experiment the changes are same\n",
    "            #Helps in comparison\n",
    "            np.random.seed(counter)\n",
    "            changes = np.random.normal(mean_optimal,std_dev_optimal,no_of_actions)\n",
    "            optimal_action_values = np.add(optimal_action_values,changes)\n",
    "        \n",
    "       #Exploration\n",
    "        if random.random()<epsilon:\n",
    "            #act_index --> Index of arm upon which action is made\n",
    "            act_index = random.randint(0,no_of_actions-1)\n",
    "           \n",
    "        else:\n",
    "            act_index = (get_maxvalue_index(expect))\n",
    "        act_occur[act_index]+=1\n",
    "        rward_t = np.random.normal(optimal_action_values[act_index],std_dev_reward)\n",
    "        \n",
    "        #Update expectation\n",
    "        expect[act_index] = ((rward_t*alpha) + ((1-alpha)*(expect[act_index])))\n",
    "        avg_rward_value = ((avg_rward_value*(counter-1))+rward_t)/(counter)\n",
    "        avg_rward_list.append(avg_rward_value)\n",
    "        #print  (act_index)\n",
    "    #plt.plot(avg_rward_list,color=colr)\n",
    "    #print (\"Average Reward : Greedy : \\t\",avg_rward_value)\n",
    "    return avg_rward_list,avg_rward_value\n",
    "\n",
    "\n",
    "def weighted_non_stationary_experiment(arms=10,mean_optimal=0,std_dev_optimal=1,std_dev_reward=1,init_expectation = 0,iterations=1000,epsilon=0.1,alpha=0.5,no_of_exp = 500):\n",
    "    rward_list = [0]\n",
    "    rward_value = 0\n",
    "    for x in range(no_of_exp):\n",
    "        avg_lists, avg_values = weighted_non_stationary(arms,mean_optimal,std_dev_optimal,std_dev_reward,init_expectation,iterations,epsilon,alpha)\n",
    "        if x == 0:\n",
    "            rward_list = avg_lists\n",
    "            rward_value = avg_values\n",
    "        else:\n",
    "            rward_list = np.add(np.dot(x,rward_list),avg_lists)/(x+1)\n",
    "            rward_value = ((x*rward_value)+avg_values)/(x+1)\n",
    "  \n",
    "    print (\"alpha : \",alpha, \"\\t epsilon : \",epsilon,\"\\t average reward value\",rward_value)\n",
    "    return (rward_list)\n",
    "                                           \n",
    "fig, axes = plt.subplots(nrows=1, ncols=1, figsize=(6, 6))\n",
    "axes.plot(weighted_non_stationary_experiment(epsilon=0.,alpha=0.2), label=\"epsilon=0. alpha=0.2\")\n",
    "axes.plot(weighted_non_stationary_experiment(epsilon=0.1,alpha=0.2), label=\"epsilon=0.1 alpha=0.2\")\n",
    "axes.plot(weighted_non_stationary_experiment(epsilon=0.1,alpha=0.), label=\"epsilon=0.1 alpha=0\")\n",
    "axes.plot(weighted_non_stationary_experiment(epsilon=0.,alpha=0.), label=\"epsilon=0. alpha=0.\")\n",
    "#axes.plot(greedy_experiment(epsilon=0),color='b',label=\"epsilon=0\")\n",
    "axes.set_xlabel(\"No of Steps\")\n",
    "\n",
    "axes.set_ylabel(\"Average Reward\")\n",
    "axes.legend(bbox_to_anchor=(1.05, 1), loc=2, borderaxespad=0.)\n"
   ]
  },
  {
   "cell_type": "markdown",
   "metadata": {},
   "source": [
    "<a id=\"10\"></a>\n",
    "## <span style=\"color:#2595bc\">GRADIENT BANDIT ALGORITHMS</span>\n",
    "\n",
    "Uptill now we have considered methods that estimate action values and\n",
    "use those estimates to select actions. This is often a good approach, but it is not the\n",
    "only one possible. In this section we consider learning a <span style=\"color:#f31818\">numerical preference $H_t(a)$</span>\n",
    "for each action a. The larger the preference, the more often that action is taken, but\n",
    "the preference has no interpretation in terms of reward. Only the relative preference\n",
    "of one action over another is important; if we add 1000 to all the preferences there is\n",
    "no effect on the action probabilities,\n",
    "\n",
    "Long story short, we associate some numerical probability of us taking an action. Based upon what reward we get for the action, we change the probability associated with that action. Unlike. previous algorithms, we do not compute action values rather <span style=\"color:#f31818\">deal with direct probability of choosing a particular action.</span> \n",
    "\n",
    "\n"
   ]
  },
  {
   "cell_type": "markdown",
   "metadata": {},
   "source": [
    "<img src=\"images/prob.png\">"
   ]
  },
  {
   "cell_type": "markdown",
   "metadata": {},
   "source": [
    "#### <span style=\"color:#2595bc\">EXPLAINATION</span>\n",
    "\n",
    "The $\\bar R_t$ term  <span style=\"color:#f31818\">serves\n",
    "as a baseline</span> with which the reward is compared. If the reward is higher than the\n",
    "baseline, then the probability of taking $A_t$\n",
    "in the future is increased, and if the reward\n",
    "is below baseline, then probability is decreased. The non-selected actions move in\n",
    "the opposite direction.\n",
    "\n",
    "(Look up the derivation on your own)\n",
    "<a id=\"10a\"></a>"
   ]
  },
  {
   "cell_type": "code",
   "execution_count": 8,
   "metadata": {},
   "outputs": [
    {
     "name": "stdout",
     "output_type": "stream",
     "text": [
      "alpha :  0.1 \t average reward value 1.9473769141864785\n",
      "alpha :  0.2 \t average reward value 1.9473165592505024\n"
     ]
    },
    {
     "data": {
      "text/plain": [
       "<matplotlib.legend.Legend at 0x7f607e036ef0>"
      ]
     },
     "execution_count": 8,
     "metadata": {},
     "output_type": "execute_result"
    },
    {
     "data": {
      "image/png": "[encoded data removed]",
      "text/plain": [
       "<matplotlib.figure.Figure at 0x7f607e276b70>"
      ]
     },
     "metadata": {},
     "output_type": "display_data"
    }
   ],
   "source": [
    "\n",
    "def gradient_bandit(arms=10,std_dev_reward=1,init_pref = 0,iterations=1000,epsilon=0.,alpha=0.1):\n",
    "    #alpha - step size parameter\n",
    "    #epsilon - exploration parameter\n",
    "    #init pref -- initial numerical preference, == 0\n",
    "    \n",
    "    no_of_actions = arms\n",
    "    #optimal_action_values = np.random.normal(mean_optimal, std_dev_optimal, size=no_of_actions)\n",
    "    optimal_action_values = list_optimal\n",
    "    \n",
    "    num_preferences = [init_pref]*no_of_actions\n",
    "    \n",
    "    #Equal probabilities\n",
    "    probabilites = [1./no_of_actions]*no_of_actions\n",
    "    act_occur = [0]*no_of_actions\n",
    "\n",
    "    def get_maxvalue_index(list_):\n",
    "        #Get list of indexes which contain maximum value in a list\n",
    "        indexes_of_max_values = np.argwhere(list_ == np.amax(list_)).flatten().tolist()\n",
    "        #return an index randomly\n",
    "        return random.choice(indexes_of_max_values)\n",
    "   \n",
    "    \n",
    "    def softmax(list_a):\n",
    "        #Returns softmax probabilities of a list\n",
    "        list_b = list_a - (np.max(list_a))\n",
    "        prob = (np.exp(list_b)/np.sum(np.exp(list_b)))\n",
    "        return prob\n",
    "\n",
    "    avg_rward_list = [0]\n",
    "    avg_rward_value = 0\n",
    "\n",
    "\n",
    "    counter = 0\n",
    "    \n",
    "   \n",
    "    for t in range(iterations):\n",
    "\n",
    "        counter += 1\n",
    "       #Exploration\n",
    "        if random.random()<epsilon:\n",
    "            #act_index --> Index of arm upon which action is made\n",
    "            act_index = random.randint(0,no_of_actions-1)\n",
    "            \n",
    "        else:\n",
    "            act_index = (get_maxvalue_index(num_preferences))\n",
    "        \n",
    "        act_occur[act_index]+=1\n",
    "        rward_t = np.random.normal(optimal_action_values[act_index],std_dev_reward)\n",
    "        \n",
    "        #Update average reward\n",
    "        avg_rward_value = ((avg_rward_value*(counter-1))+rward_t)/(counter)\n",
    "        \n",
    "        #temp variable to update preference of \n",
    "        temp_variable = num_preferences[act_index] + (alpha*(rward_t-avg_rward_value)*(1-probabilites[act_index]))\n",
    "        num_preferences = num_preferences - np.dot(alpha,np.dot((rward_t-avg_rward_value),probabilites))\n",
    "        num_preferences[act_index] = temp_variable\n",
    "        probabilites = softmax(num_preferences)\n",
    "        avg_rward_list.append(avg_rward_value)\n",
    "        \n",
    "        \n",
    "        \n",
    "    \n",
    "    return avg_rward_list,avg_rward_value\n",
    "\n",
    "\n",
    "def gradient_experiment(arms=10,std_dev_reward=1,init_pref = 0,iterations=1000,epsilon=0.,alpha=0.1,no_of_exp = 500):\n",
    "    rward_list = [0]\n",
    "    rward_value = 0\n",
    "    for x in range(no_of_exp):\n",
    "        avg_lists, avg_values = gradient_bandit(arms,std_dev_reward,init_pref,iterations,epsilon, alpha)\n",
    "        if x == 0:\n",
    "            rward_list = avg_lists\n",
    "            rward_value = avg_values\n",
    "        else:\n",
    "            #Update averages\n",
    "            rward_list = np.add(np.dot(x,rward_list),avg_lists)/(x+1)\n",
    "            rward_value = ((x*rward_value)+avg_values)/(x+1)\n",
    "  \n",
    "    print (\"alpha : \",alpha,\"\\t average reward value\",rward_value)\n",
    "    return (rward_list)\n",
    "\n",
    "fig, axes = plt.subplots(nrows=1, ncols=1, figsize=(6, 6))\n",
    "axes.plot(gradient_experiment(alpha=0.1),color='r', label=\"c=0.1\")\n",
    "axes.plot(gradient_experiment(alpha=0.2),color='b',label=\"c=0.2\")\n",
    "axes.set_xlabel(\"No of Steps\")\n",
    "\n",
    "axes.set_ylabel(\"Average Reward\")\n",
    "axes.legend(bbox_to_anchor=(1.05, 1), loc=2, borderaxespad=0.)"
   ]
  },
  {
   "cell_type": "code",
   "execution_count": null,
   "metadata": {},
   "outputs": [],
   "source": []
  }
 ],
 "metadata": {
  "kernelspec": {
   "display_name": "Python 3",
   "language": "python",
   "name": "python3"
  },
  "language_info": {
   "codemirror_mode": {
    "name": "ipython",
    "version": 3
   },
   "file_extension": ".py",
   "mimetype": "text/x-python",
   "name": "python",
   "nbconvert_exporter": "python",
   "pygments_lexer": "ipython3",
   "version": "3.5.2"
  },
  "latex_envs": {
   "LaTeX_envs_menu_present": true,
   "autocomplete": true,
   "bibliofile": "biblio.bib",
   "cite_by": "apalike",
   "current_citInitial": 1,
   "eqLabelWithNumbers": true,
   "eqNumInitial": 1,
   "hotkeys": {
    "equation": "Ctrl-E",
    "itemize": "Ctrl-I"
   },
   "labels_anchors": false,
   "latex_user_defs": false,
   "report_style_numbering": false,
   "user_envs_cfg": false
  }
 },
 "nbformat": 4,
 "nbformat_minor": 2
}
